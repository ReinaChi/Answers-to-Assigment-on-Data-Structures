{
 "cells": [
  {
   "cell_type": "markdown",
   "id": "1397e916",
   "metadata": {},
   "source": [
    "# Answers to Assignment on Data Structures "
   ]
  },
  {
   "cell_type": "markdown",
   "id": "c9927b62",
   "metadata": {},
   "source": [
    "# 1"
   ]
  },
  {
   "cell_type": "code",
   "execution_count": 4,
   "id": "c023b4ae",
   "metadata": {},
   "outputs": [
    {
     "data": {
      "text/plain": [
       "14"
      ]
     },
     "execution_count": 4,
     "metadata": {},
     "output_type": "execute_result"
    }
   ],
   "source": [
    "x = 16 - 2 * 5 // 3 + 1\n",
    "x"
   ]
  },
  {
   "cell_type": "markdown",
   "id": "c9f6b727",
   "metadata": {},
   "source": [
    "Operation precedence happened. According to PEMDAS, multiplication and division are on the same level and both precede addition and subtraction which are on the same level. \n",
    "First, from left to right, multiplication of 2 * 5 = 10, followed by integer division of 10 // 3 = 3, then subtraction of 16 - 3 = 13 and finally addition of 13 + 1 = 14.  \n"
   ]
  },
  {
   "cell_type": "code",
   "execution_count": 5,
   "id": "b60bde60",
   "metadata": {},
   "outputs": [
    {
     "data": {
      "text/plain": [
       "24"
      ]
     },
     "execution_count": 5,
     "metadata": {},
     "output_type": "execute_result"
    }
   ],
   "source": [
    "y = 2 ** 3 * 3\n",
    "y"
   ]
  },
  {
   "cell_type": "markdown",
   "id": "ca3621de",
   "metadata": {},
   "source": [
    "Since both operations ** and * are on the same level, no precedence occurred thus evaluation starts from left to right which gave an output of 24"
   ]
  },
  {
   "cell_type": "markdown",
   "id": "4f9ceb0d",
   "metadata": {},
   "source": [
    "# 2 "
   ]
  },
  {
   "cell_type": "code",
   "execution_count": 6,
   "id": "2a3637e5",
   "metadata": {},
   "outputs": [
    {
     "data": {
      "text/plain": [
       "4"
      ]
     },
     "execution_count": 6,
     "metadata": {},
     "output_type": "execute_result"
    }
   ],
   "source": [
    "6 * 1 - 2"
   ]
  },
  {
   "cell_type": "code",
   "execution_count": 7,
   "id": "0054074b",
   "metadata": {},
   "outputs": [
    {
     "data": {
      "text/plain": [
       "-6"
      ]
     },
     "execution_count": 7,
     "metadata": {},
     "output_type": "execute_result"
    }
   ],
   "source": [
    "6 * (1 - 2)"
   ]
  },
  {
   "cell_type": "markdown",
   "id": "bec614c6",
   "metadata": {},
   "source": [
    "# 3"
   ]
  },
  {
   "cell_type": "code",
   "execution_count": 16,
   "id": "313814ff",
   "metadata": {},
   "outputs": [],
   "source": [
    "area = π · r2\n",
    "r = 7\n",
    "π = 3.14"
   ]
  },
  {
   "cell_type": "code",
   "execution_count": 12,
   "id": "30480b01",
   "metadata": {},
   "outputs": [
    {
     "data": {
      "text/plain": [
       "153.86"
      ]
     },
     "execution_count": 12,
     "metadata": {},
     "output_type": "execute_result"
    }
   ],
   "source": [
    "area = 3.14 * 7**2\n",
    "area"
   ]
  },
  {
   "cell_type": "code",
   "execution_count": 13,
   "id": "d88b8680",
   "metadata": {},
   "outputs": [],
   "source": [
    "_area = 153.86"
   ]
  },
  {
   "cell_type": "code",
   "execution_count": 17,
   "id": "5f2361db",
   "metadata": {},
   "outputs": [
    {
     "data": {
      "text/plain": [
       "'Calculating the area of the circle using the above formula and variable 7, the total area is 153.86. Note that 3.14 is a constant.'"
      ]
     },
     "execution_count": 17,
     "metadata": {},
     "output_type": "execute_result"
    }
   ],
   "source": [
    "z = \"Calculating the area of the circle using the above formula and variable {}, the total area is {}. Note that {} is a constant.\".format(r, _area, π)\n",
    "z"
   ]
  },
  {
   "cell_type": "markdown",
   "id": "779d818d",
   "metadata": {},
   "source": [
    "# 4"
   ]
  },
  {
   "cell_type": "code",
   "execution_count": 21,
   "id": "b553ca36",
   "metadata": {},
   "outputs": [],
   "source": [
    "x = 0, 1, 2, 3, 4, 5"
   ]
  },
  {
   "cell_type": "code",
   "execution_count": 24,
   "id": "60fe5825",
   "metadata": {},
   "outputs": [
    {
     "data": {
      "text/plain": [
       "True"
      ]
     },
     "execution_count": 24,
     "metadata": {},
     "output_type": "execute_result"
    }
   ],
   "source": [
    " 3 in x"
   ]
  },
  {
   "cell_type": "markdown",
   "id": "4ad443d1",
   "metadata": {},
   "source": [
    "# 5"
   ]
  },
  {
   "cell_type": "code",
   "execution_count": 38,
   "id": "a7905f61",
   "metadata": {},
   "outputs": [],
   "source": [
    "x = 10\n",
    "y = 50"
   ]
  },
  {
   "cell_type": "code",
   "execution_count": 41,
   "id": "b1804ca6",
   "metadata": {},
   "outputs": [
    {
     "data": {
      "text/plain": [
       "True"
      ]
     },
     "execution_count": 41,
     "metadata": {},
     "output_type": "execute_result"
    }
   ],
   "source": [
    "z = x>5 and y>40\n",
    "z"
   ]
  },
  {
   "cell_type": "code",
   "execution_count": 43,
   "id": "e0feac44",
   "metadata": {},
   "outputs": [
    {
     "data": {
      "text/plain": [
       "True"
      ]
     },
     "execution_count": 43,
     "metadata": {},
     "output_type": "execute_result"
    }
   ],
   "source": [
    "z1 = x==10 or y<50 \n",
    "z1"
   ]
  },
  {
   "cell_type": "code",
   "execution_count": 44,
   "id": "6b01f417",
   "metadata": {},
   "outputs": [
    {
     "data": {
      "text/plain": [
       "False"
      ]
     },
     "execution_count": 44,
     "metadata": {},
     "output_type": "execute_result"
    }
   ],
   "source": [
    "z2 = not(x>5 and y>40)\n",
    "z2"
   ]
  },
  {
   "cell_type": "markdown",
   "id": "4dde83d1",
   "metadata": {},
   "source": [
    "# 6"
   ]
  },
  {
   "cell_type": "code",
   "execution_count": 45,
   "id": "cce66cf5",
   "metadata": {},
   "outputs": [],
   "source": [
    "zen = [12, 0.1, 5, 2.2, 18, 1.5]"
   ]
  },
  {
   "cell_type": "code",
   "execution_count": 46,
   "id": "ee75eee1",
   "metadata": {},
   "outputs": [
    {
     "name": "stdout",
     "output_type": "stream",
     "text": [
      "38.8\n"
     ]
    }
   ],
   "source": [
    "print(sum(zen))"
   ]
  },
  {
   "cell_type": "markdown",
   "id": "49f1ae76",
   "metadata": {},
   "source": [
    "# 7"
   ]
  },
  {
   "cell_type": "code",
   "execution_count": 47,
   "id": "10229069",
   "metadata": {},
   "outputs": [],
   "source": [
    "list1 = [3, 5, 1, 3, 9, 5, 7]"
   ]
  },
  {
   "cell_type": "code",
   "execution_count": 50,
   "id": "ca7081ae",
   "metadata": {},
   "outputs": [
    {
     "data": {
      "text/plain": [
       "[1, 3, 3, 5, 5, 7, 9]"
      ]
     },
     "execution_count": 50,
     "metadata": {},
     "output_type": "execute_result"
    }
   ],
   "source": [
    "list1.sort()\n",
    "list1"
   ]
  },
  {
   "cell_type": "markdown",
   "id": "f7097c35",
   "metadata": {},
   "source": [
    "# 8"
   ]
  },
  {
   "cell_type": "code",
   "execution_count": 55,
   "id": "2eb91e60",
   "metadata": {},
   "outputs": [],
   "source": [
    "list2 = [1, 2, 5, 7, 9, 0, 3, 6, 7, 1, 3, 5, 6, 8, 2, 9, 0, 5, 2, 1, 2, 4, 2]"
   ]
  },
  {
   "cell_type": "code",
   "execution_count": 58,
   "id": "fb06dede",
   "metadata": {},
   "outputs": [
    {
     "name": "stdout",
     "output_type": "stream",
     "text": [
      "5\n"
     ]
    }
   ],
   "source": [
    "list3 = list2.count(2)\n",
    "print(list3)"
   ]
  },
  {
   "cell_type": "markdown",
   "id": "bd333e59",
   "metadata": {},
   "source": [
    "# 9"
   ]
  },
  {
   "cell_type": "code",
   "execution_count": 69,
   "id": "d786d853",
   "metadata": {},
   "outputs": [
    {
     "name": "stdout",
     "output_type": "stream",
     "text": [
      "(23, 'Faith', [10, ['Chinelo', 'Sandra'], 22])\n"
     ]
    }
   ],
   "source": [
    "list3 = [\"Tosin\", 10.4, 9, (23, \"Faith\", [10, [\"Chinelo\", \"Sandra\"], 22]), 100, 85.5, 12.4, \"Promise\", (\"11\", 90)]\n",
    "print(list3[3])"
   ]
  },
  {
   "cell_type": "code",
   "execution_count": 70,
   "id": "39fa88c6",
   "metadata": {},
   "outputs": [
    {
     "name": "stdout",
     "output_type": "stream",
     "text": [
      "Faith\n"
     ]
    }
   ],
   "source": [
    "print(list3[3][1])\n"
   ]
  },
  {
   "cell_type": "code",
   "execution_count": 79,
   "id": "e5fbf959",
   "metadata": {},
   "outputs": [
    {
     "name": "stdout",
     "output_type": "stream",
     "text": [
      "[10, ['Chinelo', 'Sandra'], 22]\n"
     ]
    }
   ],
   "source": [
    "print(list3[3][2])"
   ]
  },
  {
   "cell_type": "code",
   "execution_count": 82,
   "id": "564c87c3",
   "metadata": {},
   "outputs": [
    {
     "name": "stdout",
     "output_type": "stream",
     "text": [
      "Chinelo\n"
     ]
    }
   ],
   "source": [
    "list4 = [10, ['Chinelo', 'Sandra'], 22]\n",
    "print(list4[1][0])"
   ]
  },
  {
   "cell_type": "code",
   "execution_count": 87,
   "id": "9284715b",
   "metadata": {},
   "outputs": [
    {
     "name": "stdout",
     "output_type": "stream",
     "text": [
      "[100, 85.5]\n"
     ]
    }
   ],
   "source": [
    "print(list3[4:6])"
   ]
  },
  {
   "cell_type": "code",
   "execution_count": 90,
   "id": "5d3ab5ee",
   "metadata": {},
   "outputs": [
    {
     "name": "stdout",
     "output_type": "stream",
     "text": [
      "90\n"
     ]
    }
   ],
   "source": [
    "print(list3[8][1])"
   ]
  },
  {
   "cell_type": "code",
   "execution_count": 93,
   "id": "b8bceaec",
   "metadata": {},
   "outputs": [],
   "source": [
    "a = 100\n",
    "b = 90\n",
    "c = 85.5"
   ]
  },
  {
   "cell_type": "code",
   "execution_count": 95,
   "id": "11906572",
   "metadata": {},
   "outputs": [
    {
     "name": "stdout",
     "output_type": "stream",
     "text": [
      "Chinelo couldn't score 100%, she got 90%. However, Faith is a close second with 85.5%.\n"
     ]
    }
   ],
   "source": [
    "note = \"Chinelo couldn't score {}%, she got {}%. However, Faith is a close second with {}%.\".format(a,b,c)\n",
    "print(note)\n",
    "    "
   ]
  },
  {
   "cell_type": "markdown",
   "id": "da142bf8",
   "metadata": {},
   "source": [
    "# 10"
   ]
  },
  {
   "cell_type": "code",
   "execution_count": 96,
   "id": "32e12b04",
   "metadata": {},
   "outputs": [],
   "source": [
    "list4 = [\"Chima\", \"Ebuka\", \"Rose\", \"Hassan\", \"Bisi\"]"
   ]
  },
  {
   "cell_type": "code",
   "execution_count": 102,
   "id": "97feaca8",
   "metadata": {},
   "outputs": [
    {
     "data": {
      "text/plain": [
       "['Chima', 'Chioma', 'Rose', 'Hassan', 'Bisi']"
      ]
     },
     "execution_count": 102,
     "metadata": {},
     "output_type": "execute_result"
    }
   ],
   "source": [
    "list4[1] = \"Chioma\"\n",
    "list4"
   ]
  },
  {
   "cell_type": "markdown",
   "id": "0b51f092",
   "metadata": {},
   "source": [
    "# 11"
   ]
  },
  {
   "cell_type": "code",
   "execution_count": 103,
   "id": "eddf03d9",
   "metadata": {},
   "outputs": [],
   "source": [
    "list4 = [\"Chima\", \"Ebuka\", \"Rose\", \"Hassan\", \"Bisi\"]"
   ]
  },
  {
   "cell_type": "code",
   "execution_count": 104,
   "id": "d87ea773",
   "metadata": {},
   "outputs": [
    {
     "name": "stdout",
     "output_type": "stream",
     "text": [
      "2\n"
     ]
    }
   ],
   "source": [
    "list4_= list4.index(\"Rose\")\n",
    "print(list4_)\n"
   ]
  },
  {
   "cell_type": "markdown",
   "id": "2e55d06e",
   "metadata": {},
   "source": [
    "# 13"
   ]
  },
  {
   "cell_type": "code",
   "execution_count": 114,
   "id": "b5026651",
   "metadata": {},
   "outputs": [
    {
     "name": "stdout",
     "output_type": "stream",
     "text": [
      "{1, 3, 4, 5, 6, 10}\n"
     ]
    }
   ],
   "source": [
    "sets = {3, 1, 10, 4, 5, 6}\n",
    "print(sets)"
   ]
  },
  {
   "cell_type": "code",
   "execution_count": 115,
   "id": "29cb7ba7",
   "metadata": {},
   "outputs": [
    {
     "ename": "AttributeError",
     "evalue": "'set' object has no attribute 'sort'",
     "output_type": "error",
     "traceback": [
      "\u001b[1;31m---------------------------------------------------------------------------\u001b[0m",
      "\u001b[1;31mAttributeError\u001b[0m                            Traceback (most recent call last)",
      "\u001b[1;32m<ipython-input-115-6e7aeb032e83>\u001b[0m in \u001b[0;36m<module>\u001b[1;34m\u001b[0m\n\u001b[1;32m----> 1\u001b[1;33m \u001b[0msets\u001b[0m\u001b[1;33m.\u001b[0m\u001b[0msort\u001b[0m\u001b[1;33m(\u001b[0m\u001b[1;33m)\u001b[0m\u001b[1;33m\u001b[0m\u001b[1;33m\u001b[0m\u001b[0m\n\u001b[0m\u001b[0;32m      2\u001b[0m \u001b[0msets\u001b[0m\u001b[1;33m\u001b[0m\u001b[1;33m\u001b[0m\u001b[0m\n",
      "\u001b[1;31mAttributeError\u001b[0m: 'set' object has no attribute 'sort'"
     ]
    }
   ],
   "source": [
    "sets.sort()\n",
    "sets"
   ]
  },
  {
   "cell_type": "markdown",
   "id": "aba7ffd5",
   "metadata": {},
   "source": [
    "Sets are immutable. It's arranged in ascending order when the variable containing sets is evaluated."
   ]
  },
  {
   "cell_type": "markdown",
   "id": "5c1341f7",
   "metadata": {},
   "source": [
    "# 14"
   ]
  },
  {
   "cell_type": "code",
   "execution_count": 117,
   "id": "8f2062c5",
   "metadata": {},
   "outputs": [],
   "source": [
    "set1 = {10, 20, 30, 40, 50}\n",
    "set2 = {30, 40, 50, 60, 70}"
   ]
  },
  {
   "cell_type": "code",
   "execution_count": 122,
   "id": "510b1ce6",
   "metadata": {},
   "outputs": [
    {
     "name": "stdout",
     "output_type": "stream",
     "text": [
      "{70, 40, 10, 50, 20, 60, 30}\n"
     ]
    }
   ],
   "source": [
    "set3 = set2.union(set1)\n",
    "print(set3)"
   ]
  },
  {
   "cell_type": "markdown",
   "id": "867249fc",
   "metadata": {},
   "source": [
    "# 15"
   ]
  },
  {
   "cell_type": "code",
   "execution_count": 190,
   "id": "89854552",
   "metadata": {},
   "outputs": [
    {
     "name": "stdout",
     "output_type": "stream",
     "text": [
      "['Happy', 'Peace', 'Paris', 'Ireland', 'Beautiful', 'Duvet', 'Jason', 'Ivan', 'Zina', 'Jesse', 'Zoe', 'Euliora', 'Sophie', 'Amazing']\n"
     ]
    }
   ],
   "source": [
    "noun = (\"Happy Peace Paris Ireland Beautiful Duvet Jason Ivan Zina Jesse Zoe Euliora Sophie Amazing\")\n",
    "print(noun.split())"
   ]
  },
  {
   "cell_type": "code",
   "execution_count": 197,
   "id": "af250d62",
   "metadata": {},
   "outputs": [
    {
     "name": "stdout",
     "output_type": "stream",
     "text": [
      "['Peace', 'Paris', 'Ireland', 'Beautiful', 'Duvet', 'Jason', 'Ivan', 'Zina', 'Jesse', 'Zoe', 'Euliora', 'Sophie', 'Amazing']\n"
     ]
    }
   ],
   "source": [
    "noun =  ['Happy', 'Peace', 'Paris', 'Ireland', 'Beautiful', 'Duvet', 'Jason', 'Ivan', 'Zina', 'Jesse', 'Zoe', 'Euliora', 'Sophie', 'Amazing']\n",
    "noun.remove('Happy')\n",
    "print(noun)"
   ]
  },
  {
   "cell_type": "code",
   "execution_count": 199,
   "id": "52ba1685",
   "metadata": {},
   "outputs": [
    {
     "name": "stdout",
     "output_type": "stream",
     "text": [
      "['Peace', 'Ireland', 'Beautiful', 'Duvet', 'Jason', 'Ivan', 'Zina', 'Jesse', 'Zoe', 'Euliora', 'Sophie', 'Amazing']\n"
     ]
    }
   ],
   "source": [
    "del noun[1]\n",
    "print(noun)"
   ]
  },
  {
   "cell_type": "code",
   "execution_count": 200,
   "id": "50a11b0e",
   "metadata": {},
   "outputs": [
    {
     "name": "stdout",
     "output_type": "stream",
     "text": [
      "['Amazing', 'Beautiful', 'Duvet', 'Euliora', 'Ireland', 'Ivan', 'Jason', 'Jesse', 'Peace', 'Sophie', 'Zina', 'Zoe']\n"
     ]
    }
   ],
   "source": [
    "noun.sort()\n",
    "print(noun)"
   ]
  },
  {
   "cell_type": "code",
   "execution_count": 206,
   "id": "913e6fcb",
   "metadata": {},
   "outputs": [
    {
     "name": "stdout",
     "output_type": "stream",
     "text": [
      "['Amazing', 'Beautiful', 'Duvet', 'Euliora', 'Ireland', 'Ivan', 'Jason', 'Jesse', 'Peace', 'Sophie', 'Zina', 'Zoe', 'Spain', 'Cape verde', 'Germany']\n"
     ]
    }
   ],
   "source": [
    "noun.append('Germany')\n",
    "print(noun)"
   ]
  },
  {
   "cell_type": "code",
   "execution_count": 207,
   "id": "7a90ff9f",
   "metadata": {},
   "outputs": [
    {
     "name": "stdout",
     "output_type": "stream",
     "text": [
      "['Amazing', 'Beautiful', 'Duvet', 'Euliora', 'Ireland', 'Ivan', 'Jason', 'Jesse', 'Peace', 'Sophie', 'Zina', 'Zoe', 'Spain', 'Cape verde', 'Spain', 'Germany']\n"
     ]
    }
   ],
   "source": [
    "noun.insert(-1,'Spain')\n",
    "print(noun)"
   ]
  },
  {
   "cell_type": "code",
   "execution_count": 208,
   "id": "9e78a38a",
   "metadata": {},
   "outputs": [
    {
     "name": "stdout",
     "output_type": "stream",
     "text": [
      "AmazingBeautifulDuvetEulioraIrelandIvanJasonJessePeaceSophieZinaZoeSpainCape verdeSpainGermany\n"
     ]
    }
   ],
   "source": [
    "print(\"\".join(noun))"
   ]
  },
  {
   "cell_type": "code",
   "execution_count": 209,
   "id": "3f36f114",
   "metadata": {},
   "outputs": [
    {
     "ename": "SyntaxError",
     "evalue": "illegal target for annotation (<ipython-input-209-f5bef87ecab8>, line 1)",
     "output_type": "error",
     "traceback": [
      "\u001b[1;36m  File \u001b[1;32m\"<ipython-input-209-f5bef87ecab8>\"\u001b[1;36m, line \u001b[1;32m1\u001b[0m\n\u001b[1;33m    Markdown and LaTeX:  𝛼2\u001b[0m\n\u001b[1;37m    ^\u001b[0m\n\u001b[1;31mSyntaxError\u001b[0m\u001b[1;31m:\u001b[0m illegal target for annotation\n"
     ]
    }
   ],
   "source": [
    "Markdown and LaTeX:  𝛼2"
   ]
  },
  {
   "cell_type": "markdown",
   "id": "cf5ccf33",
   "metadata": {},
   "source": [
    "# 12"
   ]
  },
  {
   "cell_type": "code",
   "execution_count": 211,
   "id": "878208f6",
   "metadata": {},
   "outputs": [
    {
     "name": "stdout",
     "output_type": "stream",
     "text": [
      "['Chioma', 'Chima', 'Ebuka', 'Rose', 'Hassan', 'Bisi']\n"
     ]
    }
   ],
   "source": [
    "list4 = [\"Chima\", \"Ebuka\", \"Rose\", \"Hassan\", \"Bisi\"]\n",
    "list4.insert(0,\"Chioma\")\n",
    "print(list4)"
   ]
  },
  {
   "cell_type": "code",
   "execution_count": null,
   "id": "54c56da4",
   "metadata": {},
   "outputs": [],
   "source": []
  }
 ],
 "metadata": {
  "kernelspec": {
   "display_name": "Python 3",
   "language": "python",
   "name": "python3"
  },
  "language_info": {
   "codemirror_mode": {
    "name": "ipython",
    "version": 3
   },
   "file_extension": ".py",
   "mimetype": "text/x-python",
   "name": "python",
   "nbconvert_exporter": "python",
   "pygments_lexer": "ipython3",
   "version": "3.8.8"
  }
 },
 "nbformat": 4,
 "nbformat_minor": 5
}
